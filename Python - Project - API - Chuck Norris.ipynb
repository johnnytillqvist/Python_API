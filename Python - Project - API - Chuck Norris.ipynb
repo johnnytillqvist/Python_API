{
 "cells": [
  {
   "cell_type": "code",
   "execution_count": 48,
   "id": "44bb2345",
   "metadata": {},
   "outputs": [
    {
     "name": "stdout",
     "output_type": "stream",
     "text": [
      "When Chuck Norris goes for a swim in the ocean, sharks try to punch him in the nose to avoid being attacked.\n"
     ]
    }
   ],
   "source": [
    "import requests\n",
    "\n",
    "# URL to make the API request\n",
    "url = 'https://api.chucknorris.io/jokes/random'\n",
    "\n",
    "# Make the API request\n",
    "response = requests.get(url)\n",
    "\n",
    "# Check if the request was successful (status code 200)\n",
    "if response.status_code == 200:\n",
    "    # Access the response data\n",
    "    data = response.json()\n",
    "\n",
    "    # Extract the joke value from the response data\n",
    "    joke = data['value']\n",
    "\n",
    "    # Print the joke\n",
    "    print(joke)\n",
    "else:\n",
    "    print('Error:', response.status_code)"
   ]
  }
 ],
 "metadata": {
  "kernelspec": {
   "display_name": "Python 3 (ipykernel)",
   "language": "python",
   "name": "python3"
  },
  "language_info": {
   "codemirror_mode": {
    "name": "ipython",
    "version": 3
   },
   "file_extension": ".py",
   "mimetype": "text/x-python",
   "name": "python",
   "nbconvert_exporter": "python",
   "pygments_lexer": "ipython3",
   "version": "3.10.11"
  }
 },
 "nbformat": 4,
 "nbformat_minor": 5
}
